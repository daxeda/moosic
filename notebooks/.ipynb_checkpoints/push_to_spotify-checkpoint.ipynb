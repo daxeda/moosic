{
 "cells": [
  {
   "cell_type": "code",
   "execution_count": 1,
   "id": "16a0c46d-6d17-4632-ab3a-63445b20c8de",
   "metadata": {},
   "outputs": [],
   "source": [
    "import json \n",
    "import spotipy\n",
    "import pickle\n",
    "from spotipy.oauth2 import SpotifyOAuth\n",
    "\n",
    "import pandas as pd"
   ]
  },
  {
   "cell_type": "code",
   "execution_count": 2,
   "id": "36921047-2d6d-4c24-8134-5290ba1febf6",
   "metadata": {},
   "outputs": [
    {
     "data": {
      "text/html": [
       "<div>\n",
       "<style scoped>\n",
       "    .dataframe tbody tr th:only-of-type {\n",
       "        vertical-align: middle;\n",
       "    }\n",
       "\n",
       "    .dataframe tbody tr th {\n",
       "        vertical-align: top;\n",
       "    }\n",
       "\n",
       "    .dataframe thead th {\n",
       "        text-align: right;\n",
       "    }\n",
       "</style>\n",
       "<table border=\"1\" class=\"dataframe\">\n",
       "  <thead>\n",
       "    <tr style=\"text-align: right;\">\n",
       "      <th></th>\n",
       "      <th>name</th>\n",
       "      <th>artist</th>\n",
       "      <th>cluster_main</th>\n",
       "      <th>sub_cluster</th>\n",
       "      <th>danceability</th>\n",
       "      <th>energy</th>\n",
       "      <th>key</th>\n",
       "      <th>loudness</th>\n",
       "      <th>mode</th>\n",
       "      <th>speechiness</th>\n",
       "      <th>acousticness</th>\n",
       "      <th>instrumentalness</th>\n",
       "      <th>liveness</th>\n",
       "      <th>valence</th>\n",
       "      <th>tempo</th>\n",
       "      <th>id</th>\n",
       "    </tr>\n",
       "  </thead>\n",
       "  <tbody>\n",
       "    <tr>\n",
       "      <th>0</th>\n",
       "      <td>Se Eu Quiser Falar Com Deus</td>\n",
       "      <td>Gilberto Gil</td>\n",
       "      <td>4</td>\n",
       "      <td>0</td>\n",
       "      <td>0.680455</td>\n",
       "      <td>0.2590</td>\n",
       "      <td>1.000000</td>\n",
       "      <td>0.763897</td>\n",
       "      <td>0.0</td>\n",
       "      <td>0.076797</td>\n",
       "      <td>0.696787</td>\n",
       "      <td>0.000060</td>\n",
       "      <td>0.987842</td>\n",
       "      <td>0.310660</td>\n",
       "      <td>0.515800</td>\n",
       "      <td>1n7JnwviZ7zf0LR1tcGFq7</td>\n",
       "    </tr>\n",
       "    <tr>\n",
       "      <th>1</th>\n",
       "      <td>Mulher Eu Sei</td>\n",
       "      <td>Chico César</td>\n",
       "      <td>4</td>\n",
       "      <td>4</td>\n",
       "      <td>0.729059</td>\n",
       "      <td>0.0502</td>\n",
       "      <td>0.363636</td>\n",
       "      <td>0.682811</td>\n",
       "      <td>1.0</td>\n",
       "      <td>0.051307</td>\n",
       "      <td>0.882530</td>\n",
       "      <td>0.000041</td>\n",
       "      <td>0.391084</td>\n",
       "      <td>0.531980</td>\n",
       "      <td>0.499098</td>\n",
       "      <td>3mXqOdlLE1k67WsAxryPFs</td>\n",
       "    </tr>\n",
       "    <tr>\n",
       "      <th>2</th>\n",
       "      <td>Rosa Morena</td>\n",
       "      <td>Kurt Elling</td>\n",
       "      <td>4</td>\n",
       "      <td>2</td>\n",
       "      <td>0.673216</td>\n",
       "      <td>0.1190</td>\n",
       "      <td>0.545455</td>\n",
       "      <td>0.655228</td>\n",
       "      <td>1.0</td>\n",
       "      <td>0.041394</td>\n",
       "      <td>0.919679</td>\n",
       "      <td>0.000348</td>\n",
       "      <td>0.105370</td>\n",
       "      <td>0.408122</td>\n",
       "      <td>0.565171</td>\n",
       "      <td>7bSzjzjTkWT2CkIPPdp0eA</td>\n",
       "    </tr>\n",
       "    <tr>\n",
       "      <th>3</th>\n",
       "      <td>Desafinado</td>\n",
       "      <td>Stan Getz</td>\n",
       "      <td>4</td>\n",
       "      <td>4</td>\n",
       "      <td>0.481903</td>\n",
       "      <td>0.1460</td>\n",
       "      <td>0.272727</td>\n",
       "      <td>0.692837</td>\n",
       "      <td>1.0</td>\n",
       "      <td>0.070697</td>\n",
       "      <td>0.934739</td>\n",
       "      <td>0.156345</td>\n",
       "      <td>0.108409</td>\n",
       "      <td>0.429442</td>\n",
       "      <td>0.667718</td>\n",
       "      <td>5pstSsK0G4q86gdyy1Spqh</td>\n",
       "    </tr>\n",
       "    <tr>\n",
       "      <th>4</th>\n",
       "      <td>Madalena</td>\n",
       "      <td>Maria Gasolina</td>\n",
       "      <td>4</td>\n",
       "      <td>0</td>\n",
       "      <td>0.698035</td>\n",
       "      <td>0.2070</td>\n",
       "      <td>1.000000</td>\n",
       "      <td>0.752828</td>\n",
       "      <td>0.0</td>\n",
       "      <td>0.059368</td>\n",
       "      <td>0.966867</td>\n",
       "      <td>0.420305</td>\n",
       "      <td>0.113475</td>\n",
       "      <td>0.694416</td>\n",
       "      <td>0.437081</td>\n",
       "      <td>33u3dO0JWjerYpFN61J3ug</td>\n",
       "    </tr>\n",
       "  </tbody>\n",
       "</table>\n",
       "</div>"
      ],
      "text/plain": [
       "                          name          artist  cluster_main  sub_cluster  \\\n",
       "0  Se Eu Quiser Falar Com Deus    Gilberto Gil             4            0   \n",
       "1                Mulher Eu Sei     Chico César             4            4   \n",
       "2                  Rosa Morena     Kurt Elling             4            2   \n",
       "3                   Desafinado       Stan Getz             4            4   \n",
       "4                     Madalena  Maria Gasolina             4            0   \n",
       "\n",
       "   danceability  energy       key  loudness  mode  speechiness  acousticness  \\\n",
       "0      0.680455  0.2590  1.000000  0.763897   0.0     0.076797      0.696787   \n",
       "1      0.729059  0.0502  0.363636  0.682811   1.0     0.051307      0.882530   \n",
       "2      0.673216  0.1190  0.545455  0.655228   1.0     0.041394      0.919679   \n",
       "3      0.481903  0.1460  0.272727  0.692837   1.0     0.070697      0.934739   \n",
       "4      0.698035  0.2070  1.000000  0.752828   0.0     0.059368      0.966867   \n",
       "\n",
       "   instrumentalness  liveness   valence     tempo                       id  \n",
       "0          0.000060  0.987842  0.310660  0.515800  1n7JnwviZ7zf0LR1tcGFq7   \n",
       "1          0.000041  0.391084  0.531980  0.499098  3mXqOdlLE1k67WsAxryPFs   \n",
       "2          0.000348  0.105370  0.408122  0.565171  7bSzjzjTkWT2CkIPPdp0eA   \n",
       "3          0.156345  0.108409  0.429442  0.667718  5pstSsK0G4q86gdyy1Spqh   \n",
       "4          0.420305  0.113475  0.694416  0.437081  33u3dO0JWjerYpFN61J3ug   "
      ]
     },
     "execution_count": 2,
     "metadata": {},
     "output_type": "execute_result"
    }
   ],
   "source": [
    "# read data\n",
    "df = pd.read_csv('../data/df_final.csv')\n",
    "df.head()"
   ]
  },
  {
   "cell_type": "code",
   "execution_count": 3,
   "id": "e2b7dd96-ac2c-4c2e-828d-425cbc768adb",
   "metadata": {},
   "outputs": [],
   "source": [
    "# specify path to spotify app login json with all correct info\n",
    "login_file = '../../api_spotify.json'\n",
    "\n",
    "scope = 'playlist-modify-public'\n",
    "redirectUri = 'http://localhost:8080/' # as specified in the app settings\n",
    "\n",
    "with open(login_file) as f:\n",
    "    login = json.load(f)\n",
    "    username = login['username']\n",
    "    client_id = login['client_id']\n",
    "    client_secret = login['client_secret']\n",
    "\n",
    "token = SpotifyOAuth(scope=scope,\n",
    "                     username=username,\n",
    "                     client_id=client_id,\n",
    "                     client_secret=client_secret,\n",
    "                     redirect_uri=redirectUri,\n",
    "                     )\n",
    "\n",
    "spotifyObject = spotipy.Spotify(auth_manager = token)"
   ]
  },
  {
   "cell_type": "code",
   "execution_count": 4,
   "id": "0cb0de53-5d07-4fbf-8a5a-6afbb1178e17",
   "metadata": {},
   "outputs": [],
   "source": [
    "def create_playlist():\n",
    "    \n",
    "    id_list = list(cl.sample(samplesize).id)\n",
    "    \n",
    "    # Spotify needs cetain text wrappers around ID numbers to identify the target as a track, a playlist, etc.\n",
    "    uris = [f'spotify:track:{str(id).strip()}' for id in id_list]\n",
    "    playlist_collection[playlist_name] = playlist_id\n",
    "\n",
    "    try:\n",
    "        spotifyObject.user_playlist_add_tracks(user=username,\n",
    "                                           playlist_id=playlist_id,\n",
    "                                           tracks=uris)\n",
    "    except:\n",
    "        pass\n",
    "# When this code is run, either a browser window will open, or in Google Colab a URL will appear\n",
    "# This URL will ask you to sign in to Spotify\n",
    "# After signing in, copy the URL you are redirected to and paste it in the box that pops up\n",
    "\n",
    "\n",
    "def update_playlist():\n",
    "    #with open(\"./playlists.pkl\", \"rb\") as f:\n",
    "    #    playlist_collection = pickle.load(f)\n",
    "        \n",
    "    uris = [f'spotify:track:{str(id).strip()}' for id in cl.sample(samplesize).id]\n",
    "    playlist_id = playlist_collection[playlist_name] # We now replace the 5 songs in playlist 0 with 10 different songs\n",
    "    \n",
    "    spotifyObject.user_playlist_replace_tracks(user=username,\n",
    "                                               playlist_id=playlist_id,\n",
    "                                               tracks=uris)\n",
    "\n",
    "\n",
    "def save_playlist_in_file():\n",
    "    # Playlist IDs can be saved for later\n",
    "    with open(\"./playlists.pkl\", \"wb\") as f:\n",
    "        pickle.dump(playlist_collection, f)\n"
   ]
  },
  {
   "cell_type": "code",
   "execution_count": 5,
   "id": "81445f6d-6f43-4c57-997c-96449acff68b",
   "metadata": {},
   "outputs": [
    {
     "name": "stdout",
     "output_type": "stream",
     "text": [
      "4 0\n"
     ]
    },
    {
     "name": "stderr",
     "output_type": "stream",
     "text": [
      "HTTP Error for POST to https://api.spotify.com/v1/playlists/5TMEGh98cZfVhEmtCxXbbd/tracks with Params: {'position': None} returned 403 due to Insufficient client scope.\n"
     ]
    },
    {
     "name": "stdout",
     "output_type": "stream",
     "text": [
      "4 4\n"
     ]
    },
    {
     "name": "stderr",
     "output_type": "stream",
     "text": [
      "HTTP Error for POST to https://api.spotify.com/v1/playlists/2yH4z6XSUqEc0jDWDqXJN6/tracks with Params: {'position': None} returned 403 due to Insufficient client scope.\n"
     ]
    },
    {
     "name": "stdout",
     "output_type": "stream",
     "text": [
      "4 2\n"
     ]
    },
    {
     "name": "stderr",
     "output_type": "stream",
     "text": [
      "HTTP Error for POST to https://api.spotify.com/v1/playlists/2aOqYFDdu64sIKIw1sbdYo/tracks with Params: {'position': None} returned 403 due to Insufficient client scope.\n"
     ]
    },
    {
     "name": "stdout",
     "output_type": "stream",
     "text": [
      "4 3\n"
     ]
    },
    {
     "name": "stderr",
     "output_type": "stream",
     "text": [
      "HTTP Error for POST to https://api.spotify.com/v1/playlists/5BKXQut6g9I4Gyp2QLhKfn/tracks with Params: {'position': None} returned 403 due to Insufficient client scope.\n",
      "HTTP Error for POST to https://api.spotify.com/v1/playlists/3fR7I2yvMsaveOPx2TtS0x/tracks with Params: {'position': None} returned 403 due to Insufficient client scope.\n"
     ]
    },
    {
     "name": "stdout",
     "output_type": "stream",
     "text": [
      "4 1\n",
      "0 0\n"
     ]
    },
    {
     "name": "stderr",
     "output_type": "stream",
     "text": [
      "HTTP Error for POST to https://api.spotify.com/v1/playlists/2npoodLT7uaEtf3LHprhP1/tracks with Params: {'position': None} returned 403 due to Insufficient client scope.\n",
      "HTTP Error for POST to https://api.spotify.com/v1/playlists/0Wl6aKFctg1rtbnRXWnzby/tracks with Params: {'position': None} returned 403 due to Insufficient client scope.\n"
     ]
    },
    {
     "name": "stdout",
     "output_type": "stream",
     "text": [
      "0 4\n",
      "0 2\n"
     ]
    },
    {
     "name": "stderr",
     "output_type": "stream",
     "text": [
      "HTTP Error for POST to https://api.spotify.com/v1/playlists/0brLnopldZwFNyzTR26u7h/tracks with Params: {'position': None} returned 403 due to Insufficient client scope.\n"
     ]
    },
    {
     "name": "stdout",
     "output_type": "stream",
     "text": [
      "0 3\n"
     ]
    },
    {
     "name": "stderr",
     "output_type": "stream",
     "text": [
      "HTTP Error for POST to https://api.spotify.com/v1/playlists/5snZpDc84AGpAjGksAHhxR/tracks with Params: {'position': None} returned 403 due to Insufficient client scope.\n"
     ]
    },
    {
     "name": "stdout",
     "output_type": "stream",
     "text": [
      "0 1\n"
     ]
    },
    {
     "name": "stderr",
     "output_type": "stream",
     "text": [
      "HTTP Error for POST to https://api.spotify.com/v1/playlists/4VhV7fXIsbyLc73rv7HdK1/tracks with Params: {'position': None} returned 403 due to Insufficient client scope.\n"
     ]
    },
    {
     "name": "stdout",
     "output_type": "stream",
     "text": [
      "3 0\n"
     ]
    },
    {
     "name": "stderr",
     "output_type": "stream",
     "text": [
      "HTTP Error for POST to https://api.spotify.com/v1/playlists/4NMyqqVvKaBH17hRtsLr1z/tracks with Params: {'position': None} returned 403 due to Insufficient client scope.\n",
      "HTTP Error for POST to https://api.spotify.com/v1/playlists/7A9Hj3geTGl40Y6dJ3VAHj/tracks with Params: {'position': None} returned 403 due to Insufficient client scope.\n"
     ]
    },
    {
     "name": "stdout",
     "output_type": "stream",
     "text": [
      "3 4\n"
     ]
    },
    {
     "name": "stderr",
     "output_type": "stream",
     "text": [
      "HTTP Error for POST to https://api.spotify.com/v1/playlists/74BYCp76a1Vt9VYW58aQJZ/tracks with Params: {'position': None} returned 403 due to Insufficient client scope.\n"
     ]
    },
    {
     "name": "stdout",
     "output_type": "stream",
     "text": [
      "3 2\n",
      "3 3\n"
     ]
    },
    {
     "name": "stderr",
     "output_type": "stream",
     "text": [
      "HTTP Error for POST to https://api.spotify.com/v1/playlists/6xD0K47x5ZTmxMouHucjZJ/tracks with Params: {'position': None} returned 403 due to Insufficient client scope.\n"
     ]
    },
    {
     "name": "stdout",
     "output_type": "stream",
     "text": [
      "3 1\n"
     ]
    },
    {
     "name": "stderr",
     "output_type": "stream",
     "text": [
      "HTTP Error for POST to https://api.spotify.com/v1/playlists/0M1QgwnD2Cz86ajyUFVL59/tracks with Params: {'position': None} returned 403 due to Insufficient client scope.\n"
     ]
    },
    {
     "name": "stdout",
     "output_type": "stream",
     "text": [
      "2 0\n"
     ]
    },
    {
     "name": "stderr",
     "output_type": "stream",
     "text": [
      "HTTP Error for POST to https://api.spotify.com/v1/playlists/1UMKFUQ8PtdDfMc98HK7Ld/tracks with Params: {'position': None} returned 403 due to Insufficient client scope.\n"
     ]
    },
    {
     "name": "stdout",
     "output_type": "stream",
     "text": [
      "2 4\n"
     ]
    },
    {
     "name": "stderr",
     "output_type": "stream",
     "text": [
      "HTTP Error for POST to https://api.spotify.com/v1/playlists/3IxLiECttriVnLKfx6QyQY/tracks with Params: {'position': None} returned 403 due to Insufficient client scope.\n"
     ]
    },
    {
     "name": "stdout",
     "output_type": "stream",
     "text": [
      "2 2\n"
     ]
    },
    {
     "name": "stderr",
     "output_type": "stream",
     "text": [
      "HTTP Error for POST to https://api.spotify.com/v1/playlists/6b0C8yszrl3P7arok5LErh/tracks with Params: {'position': None} returned 403 due to Insufficient client scope.\n",
      "HTTP Error for POST to https://api.spotify.com/v1/playlists/1Kwi2BkX0UyX2P9VTyPVqz/tracks with Params: {'position': None} returned 403 due to Insufficient client scope.\n"
     ]
    },
    {
     "name": "stdout",
     "output_type": "stream",
     "text": [
      "2 3\n",
      "2 1\n"
     ]
    },
    {
     "name": "stderr",
     "output_type": "stream",
     "text": [
      "HTTP Error for POST to https://api.spotify.com/v1/playlists/1UIqeZ9CJweDqkH9Ri4dbr/tracks with Params: {'position': None} returned 403 due to Insufficient client scope.\n"
     ]
    },
    {
     "name": "stdout",
     "output_type": "stream",
     "text": [
      "1 0\n"
     ]
    },
    {
     "name": "stderr",
     "output_type": "stream",
     "text": [
      "HTTP Error for POST to https://api.spotify.com/v1/playlists/4HNE1PctQ0npLfQZ2kNXJb/tracks with Params: {'position': None} returned 403 due to Insufficient client scope.\n"
     ]
    },
    {
     "name": "stdout",
     "output_type": "stream",
     "text": [
      "1 4\n"
     ]
    },
    {
     "name": "stderr",
     "output_type": "stream",
     "text": [
      "HTTP Error for POST to https://api.spotify.com/v1/playlists/3kGlqVrIBwdUZtQmLeJblp/tracks with Params: {'position': None} returned 403 due to Insufficient client scope.\n"
     ]
    },
    {
     "name": "stdout",
     "output_type": "stream",
     "text": [
      "1 2\n"
     ]
    },
    {
     "name": "stderr",
     "output_type": "stream",
     "text": [
      "HTTP Error for POST to https://api.spotify.com/v1/playlists/6JMgD0XDwAT11wUxr2eLPl/tracks with Params: {'position': None} returned 403 due to Insufficient client scope.\n",
      "HTTP Error for POST to https://api.spotify.com/v1/playlists/36PvoPljhsl5qEUUlamzVp/tracks with Params: {'position': None} returned 403 due to Insufficient client scope.\n"
     ]
    },
    {
     "name": "stdout",
     "output_type": "stream",
     "text": [
      "1 3\n",
      "1 1\n"
     ]
    },
    {
     "name": "stderr",
     "output_type": "stream",
     "text": [
      "HTTP Error for POST to https://api.spotify.com/v1/playlists/7jJhmqqbzptknGs63ujUOP/tracks with Params: {'position': None} returned 403 due to Insufficient client scope.\n"
     ]
    }
   ],
   "source": [
    "playlist_collection = {}\n",
    "\n",
    "for main in df.cluster_main.unique():\n",
    "    for sub in df.sub_cluster.unique():\n",
    "        print(main, sub)\n",
    "        cl = df.loc[(df.cluster_main == main) & (df.sub_cluster == sub)]\n",
    "        playlist_name = f'playlist_{main}_{sub}'\n",
    "        playlist_description= 'this is a test list'\n",
    "\n",
    "        if cl.shape[0] > 100:\n",
    "            samplesize = 100 # Here, we simply take songs randomly from each cluster\n",
    "        else:\n",
    "            samplesize = cl.shape[0] # in case the cluster has <100 rows\n",
    "\n",
    "        playlist_id = spotifyObject.user_playlist_create(user=username,\n",
    "                                                        name=playlist_name,\n",
    "                                                        public=True,\n",
    "                                                        description=playlist_description)['id']\n",
    "        \n",
    "        create_playlist()\n",
    "        update_playlist()\n",
    "\n",
    "save_playlist_in_file()"
   ]
  },
  {
   "cell_type": "code",
   "execution_count": null,
   "id": "3d874714-109b-4bf1-ab8a-1e84e33df326",
   "metadata": {},
   "outputs": [],
   "source": []
  }
 ],
 "metadata": {
  "kernelspec": {
   "display_name": "Python 3 (ipykernel)",
   "language": "python",
   "name": "python3"
  },
  "language_info": {
   "codemirror_mode": {
    "name": "ipython",
    "version": 3
   },
   "file_extension": ".py",
   "mimetype": "text/x-python",
   "name": "python",
   "nbconvert_exporter": "python",
   "pygments_lexer": "ipython3",
   "version": "3.11.5"
  }
 },
 "nbformat": 4,
 "nbformat_minor": 5
}
