{
 "cells": [
  {
   "cell_type": "code",
   "execution_count": 1,
   "id": "16a0c46d-6d17-4632-ab3a-63445b20c8de",
   "metadata": {},
   "outputs": [],
   "source": [
    "import json \n",
    "import spotipy\n",
    "import pickle\n",
    "from spotipy.oauth2 import SpotifyOAuth\n",
    "\n",
    "import pandas as pd"
   ]
  },
  {
   "cell_type": "code",
   "execution_count": 2,
   "id": "36921047-2d6d-4c24-8134-5290ba1febf6",
   "metadata": {},
   "outputs": [
    {
     "data": {
      "text/html": [
       "<div>\n",
       "<style scoped>\n",
       "    .dataframe tbody tr th:only-of-type {\n",
       "        vertical-align: middle;\n",
       "    }\n",
       "\n",
       "    .dataframe tbody tr th {\n",
       "        vertical-align: top;\n",
       "    }\n",
       "\n",
       "    .dataframe thead th {\n",
       "        text-align: right;\n",
       "    }\n",
       "</style>\n",
       "<table border=\"1\" class=\"dataframe\">\n",
       "  <thead>\n",
       "    <tr style=\"text-align: right;\">\n",
       "      <th></th>\n",
       "      <th>Unnamed: 0</th>\n",
       "      <th>name</th>\n",
       "      <th>artist</th>\n",
       "      <th>cluster_main</th>\n",
       "      <th>sub_cluster</th>\n",
       "      <th>speechiness</th>\n",
       "      <th>liveness</th>\n",
       "      <th>valence</th>\n",
       "      <th>tempo</th>\n",
       "      <th>id</th>\n",
       "    </tr>\n",
       "  </thead>\n",
       "  <tbody>\n",
       "    <tr>\n",
       "      <th>0</th>\n",
       "      <td>0</td>\n",
       "      <td>Se Eu Quiser Falar Com Deus</td>\n",
       "      <td>Gilberto Gil</td>\n",
       "      <td>0</td>\n",
       "      <td>3</td>\n",
       "      <td>0.053496</td>\n",
       "      <td>0.987706</td>\n",
       "      <td>0.296665</td>\n",
       "      <td>0.456665</td>\n",
       "      <td>1n7JnwviZ7zf0LR1tcGFq7</td>\n",
       "    </tr>\n",
       "    <tr>\n",
       "      <th>1</th>\n",
       "      <td>1</td>\n",
       "      <td>Mulher Eu Sei</td>\n",
       "      <td>Chico César</td>\n",
       "      <td>0</td>\n",
       "      <td>3</td>\n",
       "      <td>0.027362</td>\n",
       "      <td>0.384284</td>\n",
       "      <td>0.522478</td>\n",
       "      <td>0.432506</td>\n",
       "      <td>3mXqOdlLE1k67WsAxryPFs</td>\n",
       "    </tr>\n",
       "    <tr>\n",
       "      <th>2</th>\n",
       "      <td>2</td>\n",
       "      <td>Rosa Morena</td>\n",
       "      <td>Kurt Elling</td>\n",
       "      <td>0</td>\n",
       "      <td>0</td>\n",
       "      <td>0.017199</td>\n",
       "      <td>0.095380</td>\n",
       "      <td>0.396105</td>\n",
       "      <td>0.528079</td>\n",
       "      <td>7bSzjzjTkWT2CkIPPdp0eA</td>\n",
       "    </tr>\n",
       "    <tr>\n",
       "      <th>3</th>\n",
       "      <td>3</td>\n",
       "      <td>Desafinado</td>\n",
       "      <td>Stan Getz</td>\n",
       "      <td>0</td>\n",
       "      <td>0</td>\n",
       "      <td>0.047241</td>\n",
       "      <td>0.098453</td>\n",
       "      <td>0.417858</td>\n",
       "      <td>0.676409</td>\n",
       "      <td>5pstSsK0G4q86gdyy1Spqh</td>\n",
       "    </tr>\n",
       "    <tr>\n",
       "      <th>4</th>\n",
       "      <td>4</td>\n",
       "      <td>Madalena</td>\n",
       "      <td>Maria Gasolina</td>\n",
       "      <td>0</td>\n",
       "      <td>2</td>\n",
       "      <td>0.035627</td>\n",
       "      <td>0.103575</td>\n",
       "      <td>0.688212</td>\n",
       "      <td>0.342801</td>\n",
       "      <td>33u3dO0JWjerYpFN61J3ug</td>\n",
       "    </tr>\n",
       "  </tbody>\n",
       "</table>\n",
       "</div>"
      ],
      "text/plain": [
       "   Unnamed: 0                         name          artist  cluster_main  \\\n",
       "0           0  Se Eu Quiser Falar Com Deus    Gilberto Gil             0   \n",
       "1           1                Mulher Eu Sei     Chico César             0   \n",
       "2           2                  Rosa Morena     Kurt Elling             0   \n",
       "3           3                   Desafinado       Stan Getz             0   \n",
       "4           4                     Madalena  Maria Gasolina             0   \n",
       "\n",
       "   sub_cluster  speechiness  liveness   valence     tempo  \\\n",
       "0            3     0.053496  0.987706  0.296665  0.456665   \n",
       "1            3     0.027362  0.384284  0.522478  0.432506   \n",
       "2            0     0.017199  0.095380  0.396105  0.528079   \n",
       "3            0     0.047241  0.098453  0.417858  0.676409   \n",
       "4            2     0.035627  0.103575  0.688212  0.342801   \n",
       "\n",
       "                        id  \n",
       "0  1n7JnwviZ7zf0LR1tcGFq7   \n",
       "1  3mXqOdlLE1k67WsAxryPFs   \n",
       "2  7bSzjzjTkWT2CkIPPdp0eA   \n",
       "3  5pstSsK0G4q86gdyy1Spqh   \n",
       "4  33u3dO0JWjerYpFN61J3ug   "
      ]
     },
     "execution_count": 2,
     "metadata": {},
     "output_type": "execute_result"
    }
   ],
   "source": [
    "# read data\n",
    "df = pd.read_csv('../data/df_final2.csv')\n",
    "df.head()"
   ]
  },
  {
   "cell_type": "code",
   "execution_count": 8,
   "id": "974b0f2f-d090-4b6b-812c-39d96dd53fb0",
   "metadata": {},
   "outputs": [
    {
     "data": {
      "text/plain": [
       "array([0, 1, 3, 2, 4])"
      ]
     },
     "execution_count": 8,
     "metadata": {},
     "output_type": "execute_result"
    }
   ],
   "source": [
    "df.cluster_main.unique()"
   ]
  },
  {
   "cell_type": "code",
   "execution_count": 9,
   "id": "8869068f-6dda-4c0a-bd63-53fb7f1f181e",
   "metadata": {},
   "outputs": [
    {
     "data": {
      "text/plain": [
       "array([3, 0, 2, 1])"
      ]
     },
     "execution_count": 9,
     "metadata": {},
     "output_type": "execute_result"
    }
   ],
   "source": [
    "df.sub_cluster.unique()"
   ]
  },
  {
   "cell_type": "code",
   "execution_count": 3,
   "id": "e2b7dd96-ac2c-4c2e-828d-425cbc768adb",
   "metadata": {},
   "outputs": [],
   "source": [
    "# specify path to spotify app login json with all correct info\n",
    "login_file = '../../api_spotify.json'\n",
    "\n",
    "scope = 'playlist-modify-public'\n",
    "redirectUri = 'http://localhost:8080/' # as specified in the app settings\n",
    "\n",
    "with open(login_file) as f:\n",
    "    login = json.load(f)\n",
    "    username = login['username']\n",
    "    client_id = login['client_id']\n",
    "    client_secret = login['client_secret']\n",
    "\n",
    "token = SpotifyOAuth(scope=scope,\n",
    "                     username=username,\n",
    "                     client_id=client_id,\n",
    "                     client_secret=client_secret,\n",
    "                     redirect_uri=redirectUri,\n",
    "                     )\n",
    "\n",
    "spotifyObject = spotipy.Spotify(auth_manager = token)"
   ]
  },
  {
   "cell_type": "code",
   "execution_count": 4,
   "id": "0cb0de53-5d07-4fbf-8a5a-6afbb1178e17",
   "metadata": {},
   "outputs": [],
   "source": [
    "def create_playlist():\n",
    "# When this code is run, either a browser window will open, or in Google Colab a URL will appear\n",
    "# This URL will ask you to sign in to Spotify\n",
    "# After signing in, copy the URL you are redirected to and paste it in the box that pops up\n",
    "    \n",
    "    id_list = list(cl.sample(samplesize).id)\n",
    "    \n",
    "    # Spotify needs cetain text wrappers around ID numbers to identify the target as a track, a playlist, etc.\n",
    "    uris = [f'spotify:track:{str(id).strip()}' for id in id_list]\n",
    "    playlist_collection[playlist_name] = playlist_id\n",
    "\n",
    "    try:\n",
    "        spotifyObject.user_playlist_add_tracks(user=username,\n",
    "                                           playlist_id=playlist_id,\n",
    "                                           tracks=uris)\n",
    "    except:\n",
    "        pass\n",
    "\n",
    "\n",
    "def update_playlist():\n",
    "    with open(\"./playlists.pkl\", \"rb\") as f:\n",
    "        playlist_collection = pickle.load(f)\n",
    "        \n",
    "    uris = [f'spotify:track:{str(id).strip()}' for id in cl.sample(samplesize).id]\n",
    "    playlist_id = playlist_collection[playlist_name] # We now replace the 5 songs in playlist 0 with 10 different songs\n",
    "    \n",
    "    spotifyObject.user_playlist_replace_tracks(user=username,\n",
    "                                               playlist_id=playlist_id,\n",
    "                                               tracks=uris)\n",
    "\n",
    "\n",
    "def save_playlist_in_file():\n",
    "    # Playlist IDs can be saved for later\n",
    "    with open(\"./playlists.pkl\", \"wb\") as f:\n",
    "        pickle.dump(playlist_collection, f)\n"
   ]
  },
  {
   "cell_type": "code",
   "execution_count": 7,
   "id": "81445f6d-6f43-4c57-997c-96449acff68b",
   "metadata": {},
   "outputs": [
    {
     "name": "stdout",
     "output_type": "stream",
     "text": [
      "0 3\n",
      "0 0\n",
      "0 2\n",
      "0 1\n",
      "1 3\n",
      "1 0\n",
      "1 2\n",
      "1 1\n",
      "3 3\n",
      "3 0\n",
      "3 2\n",
      "3 1\n",
      "2 3\n",
      "2 0\n",
      "2 2\n",
      "2 1\n",
      "4 3\n",
      "4 0\n",
      "4 2\n",
      "4 1\n"
     ]
    }
   ],
   "source": [
    "playlist_collection = {}\n",
    "\n",
    "for main in df.cluster_main.unique():\n",
    "    for sub in df.sub_cluster.unique():\n",
    "        print(main, sub)\n",
    "        cl = df.loc[(df.cluster_main == main) & (df.sub_cluster == sub)]\n",
    "        playlist_name = f'playlist_{main}_{sub}'\n",
    "        playlist_description= 'this is a test list'\n",
    "\n",
    "        if cl.shape[0] > 100:\n",
    "            samplesize = 100 # Here, we simply take songs randomly from each cluster\n",
    "        else:\n",
    "            samplesize = cl.shape[0] # in case the cluster has <100 rows\n",
    "\n",
    "        playlist_id = spotifyObject.user_playlist_create(user=username,\n",
    "                                                        name=playlist_name,\n",
    "                                                        public=True,\n",
    "                                                        description=playlist_description)['id']\n",
    "        \n",
    "        #create_playlist() # use only if playlists are not created yet\n",
    "        update_playlist() # use if playlists already exist\n",
    "\n",
    "save_playlist_in_file()"
   ]
  },
  {
   "cell_type": "code",
   "execution_count": null,
   "id": "3d874714-109b-4bf1-ab8a-1e84e33df326",
   "metadata": {},
   "outputs": [],
   "source": []
  }
 ],
 "metadata": {
  "kernelspec": {
   "display_name": "Python 3 (ipykernel)",
   "language": "python",
   "name": "python3"
  },
  "language_info": {
   "codemirror_mode": {
    "name": "ipython",
    "version": 3
   },
   "file_extension": ".py",
   "mimetype": "text/x-python",
   "name": "python",
   "nbconvert_exporter": "python",
   "pygments_lexer": "ipython3",
   "version": "3.11.5"
  }
 },
 "nbformat": 4,
 "nbformat_minor": 5
}
